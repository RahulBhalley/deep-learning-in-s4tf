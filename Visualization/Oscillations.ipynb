{
  "nbformat": 4,
  "nbformat_minor": 0,
  "metadata": {
    "colab": {
      "name": "Oscillations.ipynb",
      "version": "0.3.2",
      "provenance": [],
      "collapsed_sections": [],
      "include_colab_link": true
    },
    "kernelspec": {
      "name": "swift",
      "display_name": "Swift"
    }
  },
  "cells": [
    {
      "cell_type": "markdown",
      "metadata": {
        "id": "view-in-github",
        "colab_type": "text"
      },
      "source": [
        "<a href=\"https://colab.research.google.com/github/rahulbhalley/swift-for-tensorflow-examples/blob/master/Visualization/Oscillations.ipynb\" target=\"_parent\"><img src=\"https://colab.research.google.com/assets/colab-badge.svg\" alt=\"Open In Colab\"/></a>"
      ]
    },
    {
      "cell_type": "markdown",
      "metadata": {
        "id": "IyWukilVbKi2",
        "colab_type": "text"
      },
      "source": [
        "## Import dependencies"
      ]
    },
    {
      "cell_type": "code",
      "metadata": {
        "id": "kZRlD4utdPuX",
        "colab_type": "code",
        "colab": {}
      },
      "source": [
        "import Python\n",
        "PythonLibrary.useVersion(3)\n",
        "\n",
        "let np = Python.import(\"numpy\")\n",
        "let plt = Python.import(\"matplotlib.pyplot\")"
      ],
      "execution_count": 0,
      "outputs": []
    },
    {
      "cell_type": "markdown",
      "metadata": {
        "id": "z9gtXy1IbdKm",
        "colab_type": "text"
      },
      "source": [
        "## Generate plotting values"
      ]
    },
    {
      "cell_type": "code",
      "metadata": {
        "id": "aTgoajfUbPKF",
        "colab_type": "code",
        "colab": {}
      },
      "source": [
        "let x1 = np.linspace(0.0, 5.0)\n",
        "let x2 = np.linspace(0.0, 2.0)\n",
        "\n",
        "let y1 = np.cos(2 * np.pi * x1) * np.exp(-x1)\n",
        "let y2 = np.cos(2 * np.pi * x2)"
      ],
      "execution_count": 0,
      "outputs": []
    },
    {
      "cell_type": "markdown",
      "metadata": {
        "id": "3dFAxFffbmJc",
        "colab_type": "text"
      },
      "source": [
        "## Finally, plot it"
      ]
    },
    {
      "cell_type": "code",
      "metadata": {
        "id": "xZwlCZlHbj4j",
        "colab_type": "code",
        "outputId": "ea980bf8-28eb-4dc7-e0bc-efab5de10f0f",
        "colab": {
          "base_uri": "https://localhost:8080/",
          "height": 34
        }
      },
      "source": [
        "plt.subplot(2, 1, 1)\n",
        "plt.plot(x1, y1, \"o-\")\n",
        "plt.title(\"A tale of 2 subplots\")\n",
        "plt.ylabel(\"Damped oscillation\")\n",
        "\n",
        "plt.subplot(2, 1, 2)\n",
        "plt.plot(x2, y2, \".-\")\n",
        "plt.xlabel(\"time (s)\")\n",
        "plt.ylabel(\"Undamped\")\n",
        "\n",
        "plt.savefig(\"Oscillations.pdf\")\n",
        "plt.show()"
      ],
      "execution_count": 3,
      "outputs": [
        {
          "output_type": "execute_result",
          "data": {
            "text/plain": [
              "None\n"
            ]
          },
          "metadata": {
            "tags": []
          },
          "execution_count": 3
        }
      ]
    }
  ]
}